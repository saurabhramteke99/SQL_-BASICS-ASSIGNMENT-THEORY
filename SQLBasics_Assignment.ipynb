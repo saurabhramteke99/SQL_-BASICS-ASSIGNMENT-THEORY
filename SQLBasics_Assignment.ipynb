{
  "nbformat": 4,
  "nbformat_minor": 0,
  "metadata": {
    "colab": {
      "provenance": []
    },
    "kernelspec": {
      "name": "python3",
      "display_name": "Python 3"
    },
    "language_info": {
      "name": "python"
    }
  },
  "cells": [
    {
      "cell_type": "markdown",
      "source": [
        "# **SQL Basics Assignment THEORY Questions**"
      ],
      "metadata": {
        "id": "FQDPTEvqKO_6"
      }
    },
    {
      "cell_type": "markdown",
      "source": [
        "Que1.Create a table called employees with the following structure emp_id (integer, should not be NULL and should be a primary key) emp_name (text, should not be NULL) age (integer, should have a check constraint to ensure the age is at least 18) email (text, should be unique for each employee) salary (decimal, with a default value of 30,000). Write the SQL query to create the above table with all constraints.\n",
        "\n",
        "Ans:  \n",
        " create table employees (emp_id int not null primary key, emp_name varchar(50) not null , age int check(age >=18) , email varchar(100) unique, salary decimal(10,2) default 30000.00)"
      ],
      "metadata": {
        "id": "RJ6CWbxAKfMx"
      }
    },
    {
      "cell_type": "markdown",
      "source": [
        "Que2. . Explain the purpose of constraints and how they help maintain data integrity in a database. Provide examples of common types of constraints.\n",
        "\n",
        "Ans: Constraints are rules enforced on data columns in a relational database. Their main purpose is to ensure data integrity, which means maintaining accuracy, reliability, and consistency of data throughout its lifecycle.\n",
        "\n",
        "Without constraints, a database may accept invalid, incomplete, or duplicate data, which can lead to errors and unreliable analysis.\n",
        "\n",
        "🔒 How Constraints Help Maintain Data Integrity\n",
        "\n",
        "* Prevent invalid data entry (e.g., age can't be negative)\n",
        "\n",
        "* Avoid duplication (e.g., unique emails or IDs)\n",
        "\n",
        "* Maintain required relationships between tables (via foreign keys)\n",
        "\n",
        "* Ensure completeness of data (e.g., mandatory fields can't be NULL)\n",
        "\n",
        "**  Common Types of Constraints (with Examples)\n",
        "\n",
        "1. PRIMARY KEY:\tUniquely identifies each record and cannot be NULL.\n",
        "e.g.\n",
        "\temp_id INT PRIMARY KEY\n",
        "\n",
        "2. NOT NULL\tEnsures a column must always have a value. e.g.\temp_name VARCHAR(50) NOT NULL\n",
        "\n",
        "3. UNIQUE\tEnsures all values in a column are different. e.g.\temail VARCHAR(100) UNIQUE\n",
        "\n",
        "4. CHECK\tValidates data against a condition. e.g.\tage INT CHECK (age >= 18)\n",
        "\n",
        "5. DEFAULT\tAssigns a default value when none is provided. e.g.\tsalary DECIMAL DEFAULT 30000.00\n",
        "\n",
        "6. FOREIGN KEY\tMaintains referential integrity between two related tables\te.g.dept_id INT, FOREIGN KEY (dept_id) REFERENCES departments(dept_id)"
      ],
      "metadata": {
        "id": "gtKriCbtK5lL"
      }
    },
    {
      "cell_type": "markdown",
      "source": [
        "Que3. Why would you apply the NOT NULL constraint to a column? Can a primary key contain NULL values? Justify your answer.\n",
        "\n",
        "Ans: The NOT NULL constraint is used to ensure that a column must always have a value. It prevents the insertion of NULL values (i.e., missing or unknown data) into a column.\n",
        "\n",
        "Purpose:\n",
        "\n",
        "✅ To enforce mandatory fields, like name, email, or ID, which are essential for the record.\n",
        "\n",
        "✅ To avoid incomplete data that could affect business logic or calculations.\n",
        "\n",
        "✅ To maintain data integrity and consistency across rows.\n",
        "\n",
        "* Can a Primary Key Contain NULL Values?\n",
        "\n",
        "No, a primary key cannot contain NULL values.\n",
        "This is because a primary key has two important properties:\n",
        "\n",
        "1) It must be unique for each row.\n",
        "\n",
        "2) It must be not null (i.e., it must always contain a value)."
      ],
      "metadata": {
        "id": "rzou9uXTNVvx"
      }
    },
    {
      "cell_type": "markdown",
      "source": [
        "Que4.Explain the steps and SQL commands used to add or remove constraints on an existing table. Provide an example for both adding and removing a constraint.\n",
        "\n",
        "Ans: You can add or remove constraints on an existing table using the ALTER TABLE statement in SQL. This is useful when you want to modify the structure of a table without recreating it.\n",
        "\n",
        "🔹 Steps to Add a Constraint\n",
        "\n",
        "1) Identify the constraint type (e.g., NOT NULL, UNIQUE, CHECK, FOREIGN KEY).\n",
        "\n",
        "2) Use ALTER TABLE along with ADD CONSTRAINT.\n",
        "\n",
        "🔹 Steps to Remove a Constraint\n",
        "\n",
        "1) Know the constraint name (some systems auto-generate names).\n",
        "\n",
        "2) Use ALTER TABLE with DROP CONSTRAINT or DROP INDEX, depending on the type."
      ],
      "metadata": {
        "id": "vXp_9Yx7O-6i"
      }
    },
    {
      "cell_type": "markdown",
      "source": [
        "Que5. Explain the consequences of attempting to insert, update, or delete data in a way that violates constraints. Provide an example of an error message that might occur when violating a constraint.\n",
        "\n",
        "Ans: Constraints are rules in a database that maintain data accuracy, integrity, and consistency. If you attempt to insert, update, or delete data that violates these rules, the database will reject the operation and return an error message.\n",
        "\n",
        "1.  NOT NULL : \tTrying to insert NULL into a required field.\n",
        "\n",
        "\tError: Field cannot be NULL\n",
        "\n",
        "2. UNIQUE :\tInserting a duplicate value in a unique column.\n",
        "Error: Duplicate entry\n",
        "\n",
        "3. CHECK :\tEntering a value that fails a condition.\n",
        "\tError: Check constraint failed\n",
        "\n",
        "4. PRIMARY KEY :Duplicate or missing key.\n",
        "\tError: Duplicate or null key\n",
        "\n",
        "5. FOREIGN KEY :\tInserting a value that doesn't exist in the referenced table.\t Error: Foreign key constraint fails\n",
        "\n",
        "Exaple:  ❌ NOT NULL Violation\n",
        "\n",
        "INSERT INTO employees (emp_id, emp_name) VALUES (101, NULL);\n",
        "\n",
        "🧨 Error:\n",
        "\n",
        "ERROR 1048 (23000): Column 'emp_name' cannot be null\n"
      ],
      "metadata": {
        "id": "4yQAbr7RQe8_"
      }
    },
    {
      "cell_type": "markdown",
      "source": [
        "Que6. You created a products table without constraints as follows:\n",
        "\n",
        "CREATE TABLE products ( product_id INT, product_name VARCHAR(50), price DECIMAL(10, 2));\n",
        "\n",
        "\n",
        "\n",
        " Now, you realise that The product_id should be a primary key The price should have a default value of 50.00.\n",
        "\n",
        "Ans:\n",
        "Original Table\n",
        "```\n",
        "CREATE TABLE products (product_id INT , product_name VARCHAR(50),price DECIMAL(10,2));\n",
        "```\n",
        "To add product Id as a primary key and price column a default value of 50.00\n",
        "\n",
        "\n",
        "```\n",
        "ALTER TABLE products\n",
        "ADD CONSTRAINTS pk_product_id PRIMARY KEY (product_id);\n",
        "\n",
        "ALTER TABLE products\n",
        "MODIFY COLUMN price DECIMAL(10,2) DEFAULT 50.00\n",
        "\n",
        "```\n",
        "\n",
        "\n",
        "\n"
      ],
      "metadata": {
        "id": "VtU8sC9zT_la"
      }
    },
    {
      "cell_type": "markdown",
      "source": [
        "# Normalisation & CTE"
      ],
      "metadata": {
        "id": "NNa2hd89X3tb"
      }
    },
    {
      "cell_type": "markdown",
      "source": [
        "1. First Normal Form (1NF):a. Identify a table in the Sakila database that violates 1NF. Explain how you would normalize it to achieve 1NF.\n",
        "\n",
        "\n",
        "Ans: In the Sakila database, most tables are already normalized. However, let's consider a hypothetical case. Suppose we had a customer table like this:\n",
        "\n",
        "| customer\\_id | first\\_name | phone\\_numbers   |\n",
        "| ------------ | ----------- | ---------------- |\n",
        "| 1            | Alice       | 123-456, 789-012 |\n",
        "\n",
        "This violates 1NF because the phone_numbers field contains multiple values (not atomic).\n",
        "\n",
        "To normalize this table into 1NF:\n",
        "\n",
        "Original Table (Violating 1NF):\n",
        "Combines multiple phone numbers into one field.\n",
        "\n",
        "Normalized Structure:\n",
        "Split into two tables:\n",
        "\n",
        "customer: Contains customer info.\n",
        "\n",
        "customer_phone: Contains one phone number per row.\n",
        "\n"
      ],
      "metadata": {
        "id": "1ucvJ9MqwnBz"
      }
    },
    {
      "cell_type": "markdown",
      "source": [
        "2. Second Normal Form (2NF):               a. Choose a table in Sakila and describe how you would determine whether it is in 2NF.             If it violates 2NF, explain the steps to normalize it.\n",
        "\n",
        "Ans: a. Determining if a table in Sakila is in 2NF\n",
        "To check whether a table is in Second Normal Form (2NF), we first need to ensure:\n",
        "\n",
        "The table is already in First Normal Form (1NF).\n",
        "\n",
        "There are no partial dependencies — i.e., non-key attributes should depend on the whole composite primary key, not just part of it.\n",
        "\n",
        "Example: film_actor Table\n",
        "The film_actor table has the following structure:\n",
        "\n",
        "Column Name\tDescription\n",
        "actor_id\tID of the actor\n",
        "film_id\tID of the film\n",
        "last_update\tTimestamp of update\n",
        "\n",
        "Here, the primary key is a composite key: (film_id, actor_id)\n",
        "\n",
        "Does this table violate 2NF?\n",
        "The column last_update depends on the whole composite key (film_id, actor_id), not just on one part.\n",
        "\n",
        "There are no partial dependencies.\n",
        "\n",
        "✅ So, this table is already in 2NF.\n",
        "\n",
        "Now, consider a hypothetical violation of 2NF:\n",
        "Suppose we had a table like:\n",
        "\n",
        "student_id\tcourse_id\tstudent_name\tcourse_name\n",
        "\n",
        "Primary Key: (student_id, course_id)\n",
        "\n",
        "Here:\n",
        "\n",
        "student_name depends only on student_id\n",
        "\n",
        "course_name depends only on course_id\n",
        "\n",
        "These are partial dependencies, so this table violates 2NF.\n",
        "\n",
        "To normalize it into 2NF:\n",
        "Split the table into 3:\n",
        "\n",
        "student: (student_id, student_name)\n",
        "\n",
        "course: (course_id, course_name)\n",
        "\n",
        "student_course: (student_id, course_id) → relationship table\n",
        "\n"
      ],
      "metadata": {
        "id": "7zWVo3nqx9L9"
      }
    },
    {
      "cell_type": "markdown",
      "source": [
        "Que3.Third Normal Form (3NF):               a. Identify a table in Sakila that violates 3NF. Describe the transitive dependencies                present and outline the steps to normalize the table to 3NF.\n",
        "\n",
        "Ans: a. Identify a table in Sakila that violates 3NF\n",
        "To check if a table is in Third Normal Form (3NF):\n",
        "\n",
        "The table must already be in Second Normal Form (2NF).\n",
        "\n",
        "There should be no transitive dependencies — i.e., non-key attributes should not depend on other non-key attributes.\n",
        "\n",
        "Example: Suppose there is a table: customer_details\n",
        "customer_id\tcustomer_name\taddress_id\tcity\tcountry\n",
        "\n",
        "Here, assume the primary key is customer_id.\n",
        "\n",
        "Transitive Dependencies:\n",
        "address_id depends on customer_id ✅ (direct)\n",
        "\n",
        "city depends on address_id ❌ (indirect/transitive)\n",
        "\n",
        "country depends on city ❌ (also transitive)\n",
        "\n",
        "This violates 3NF because:\n",
        "\n",
        "city and country are non-key attributes depending on another non-key attribute (address_id and city, respectively), not directly on the primary key.\n",
        "\n",
        "To normalize to 3NF:\n",
        "We decompose the table as follows:\n",
        "\n",
        "customer: (customer_id, customer_name, address_id)\n",
        "\n",
        "address: (address_id, city_id)\n",
        "\n",
        "city: (city_id, city, country_id)\n",
        "\n",
        "country: (country_id, country)\n",
        "\n",
        "This structure already exists in the Sakila database, which follows proper normalization.\n",
        "\n",
        "✅ Result:\n",
        "By breaking down the table and removing transitive dependencies, we ensure that each non-key attribute depends only on the primary key, achieving Third Normal Form (3NF).\n"
      ],
      "metadata": {
        "id": "tybRPd1mzddw"
      }
    },
    {
      "cell_type": "markdown",
      "source": [
        "4. Normalization Process:               a. Take a specific table in Sakila and guide through the process of normalizing it from the initial              unnormalized form up to at least 2NF.\n",
        "\n",
        "Ans:\n",
        "a. Example Table: film_actor_unnormalized\n",
        "Let’s assume we have the following unnormalized table (UNF):\n",
        "\n",
        "| film\\_id | film\\_title | actor\\_names                    |\n",
        "| -------- | ----------- | ------------------------------- |\n",
        "| 1        | Matrix      | Keanu Reeves, Hugo Weaving      |\n",
        "| 2        | Titanic     | Leonardo DiCaprio, Kate Winslet |\n",
        "| 3        | Matrix      | Carrie-Anne Moss                |\n",
        "\n",
        "In this table:\n",
        "\n",
        "actor_names contains multiple values in one field (comma-separated).\n",
        "\n",
        "This violates 1NF, which requires atomic values (each field contains only one value).\n",
        "\n",
        "Step 1: Convert to First Normal Form (1NF)\n",
        "Problem in UNF: actor_names contains multi-valued attributes.\n",
        "\n",
        "To achieve 1NF, split the actors into separate rows.\n",
        "\n",
        "| film\\_id | film\\_title | actor\\_name       |\n",
        "| -------- | ----------- | ----------------- |\n",
        "| 1        | Matrix      | Keanu Reeves      |\n",
        "| 1        | Matrix      | Hugo Weaving      |\n",
        "| 2        | Titanic     | Leonardo DiCaprio |\n",
        "| 2        | Titanic     | Kate Winslet      |\n",
        "| 3        | Matrix      | Carrie-Anne Moss  |\n",
        "\n",
        "Now each field contains atomic (indivisible) values.\n",
        "\n",
        "Step 2: Convert to Second Normal Form (2NF)\n",
        "Problem in 1NF:\n",
        "\n",
        "The primary key is (film_id, actor_name).\n",
        "\n",
        "film_title depends only on film_id, not on the full composite key.\n",
        "\n",
        "This violates 2NF — partial dependency exists.\n",
        "\n",
        "Solution: Break into two tables\n",
        "Film Table\n",
        "(Stores film details)\n",
        "\n",
        "| film\\_id | film\\_title |\n",
        "| -------- | ----------- |\n",
        "| 1        | Matrix      |\n",
        "| 2        | Titanic     |\n",
        "| 3        | Matrix      |\n",
        "\n",
        "Film_Actor Table\n",
        "(Maps actors to films)\n",
        "\n",
        "| film\\_id | actor\\_name       |\n",
        "| -------- | ----------------- |\n",
        "| 1        | Keanu Reeves      |\n",
        "| 1        | Hugo Weaving      |\n",
        "| 2        | Leonardo DiCaprio |\n",
        "| 2        | Kate Winslet      |\n",
        "| 3        | Carrie-Anne Moss  |\n",
        "\n",
        "Now all non-key attributes in both tables depend on the entire primary key or single key — 2NF achieved."
      ],
      "metadata": {
        "id": "h2KLQeZ23qHD"
      }
    },
    {
      "cell_type": "markdown",
      "source": [
        "\n",
        ""
      ],
      "metadata": {
        "id": "xC7EbPXM9bU0"
      }
    }
  ]
}